{
 "cells": [
  {
   "cell_type": "code",
   "execution_count": 13,
   "id": "5af43e14-e2f6-44ce-8436-13df7c018cd4",
   "metadata": {},
   "outputs": [
    {
     "name": "stdout",
     "output_type": "stream",
     "text": [
      "Requirement already satisfied: opencv-python in c:\\users\\hp\\anaconda3\\lib\\site-packages (4.10.0.84)4.10.0\n",
      "\n",
      "Requirement already satisfied: numpy>=1.21.2 in c:\\users\\hp\\anaconda3\\lib\\site-packages (from opencv-python) (1.26.4)\n"
     ]
    }
   ],
   "source": [
    "!pip install opencv-python\n",
    "import cv2 \n",
    "\n",
    "print(cv2.__version__) "
   ]
  },
  {
   "cell_type": "code",
   "execution_count": 15,
   "id": "f07739e0-8b42-49c9-a3c3-157ebb05b490",
   "metadata": {},
   "outputs": [],
   "source": [
    "a = cv2.CascadeClassifier(\"haarcascade_frontalface_default.xml\")\n",
    "b = cv2.VideoCapture(0) #to capture my video "
   ]
  },
  {
   "cell_type": "code",
   "execution_count": null,
   "id": "a1577e1d-8a8f-4c40-a081-f953d99aa959",
   "metadata": {},
   "outputs": [],
   "source": [
    "while True :\n",
    "    c_rec,d_image = b.read()\n",
    "\n",
    "    if not c_rec:\n",
    "        print(\"failed to capture image . exiting loop.\")\n",
    "        break\n",
    "    e = cv2.cvtColor(d_image , cv2.COLOR_BGR2GRAY)\n",
    "    f = a.detectMultiScale(e ,1.3,6)\n",
    "\n",
    "    for ( x1,y1,w1,h1) in f :\n",
    "        cv2.rectangle(d_image, (x1,y1),(x1+w1, y1+h1),(255,0,0) , 5)\n",
    "    cv2.imshow('img',d_image)\n",
    "    h= cv2.waitKey(40) & 0xff\n",
    "    if h == 40 :\n",
    "        break \n",
    "\n",
    "b.release()\n",
    "cv2.destroyAllWindows()"
   ]
  },
  {
   "cell_type": "code",
   "execution_count": null,
   "id": "42c1f8be-35ab-4b11-a3d2-4a02015bd4da",
   "metadata": {},
   "outputs": [],
   "source": []
  },
  {
   "cell_type": "code",
   "execution_count": null,
   "id": "0143c0ff-8708-4539-94b6-de3720f990ad",
   "metadata": {},
   "outputs": [],
   "source": []
  },
  {
   "cell_type": "code",
   "execution_count": null,
   "id": "4867b9dd-6c49-4eee-bdfd-eb96f82dfc42",
   "metadata": {},
   "outputs": [],
   "source": []
  },
  {
   "cell_type": "code",
   "execution_count": null,
   "id": "7a1a5405-55c1-439b-ae58-4d8628c73250",
   "metadata": {},
   "outputs": [],
   "source": []
  },
  {
   "cell_type": "code",
   "execution_count": null,
   "id": "a0e67c1b-6861-4599-8aa2-fd829821e06a",
   "metadata": {},
   "outputs": [],
   "source": []
  }
 ],
 "metadata": {
  "kernelspec": {
   "display_name": "Python 3 (ipykernel)",
   "language": "python",
   "name": "python3"
  },
  "language_info": {
   "codemirror_mode": {
    "name": "ipython",
    "version": 3
   },
   "file_extension": ".py",
   "mimetype": "text/x-python",
   "name": "python",
   "nbconvert_exporter": "python",
   "pygments_lexer": "ipython3",
   "version": "3.11.7"
  }
 },
 "nbformat": 4,
 "nbformat_minor": 5
}
